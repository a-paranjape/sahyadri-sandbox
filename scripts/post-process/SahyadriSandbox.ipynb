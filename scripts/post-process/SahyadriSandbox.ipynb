{
 "cells": [
  {
   "cell_type": "code",
   "execution_count": 1,
   "id": "7560c247",
   "metadata": {},
   "outputs": [],
   "source": [
    "import numpy as np\n",
    "from readers import HaloReader,SnapshotReader\n",
    "from time import time\n",
    "import gc\n",
    "\n",
    "import matplotlib.pyplot as plt\n",
    "import matplotlib.colors as pltcol"
   ]
  },
  {
   "cell_type": "code",
   "execution_count": 2,
   "id": "5a02a716",
   "metadata": {},
   "outputs": [
    {
     "name": "stdout",
     "output_type": "stream",
     "text": [
      "Snapshot Reader:\n",
      "... preparing to read file: testTF128/r1/snapshot_009.hdf5\n",
      "... loaded header and parameters\n",
      "... reading Coordinates\n",
      "... reading Velocities\n",
      "... reading ParticleIDs\n",
      "0 min 0.28 seconds\n",
      "\n"
     ]
    }
   ],
   "source": [
    "start_time = time()\n",
    "sr = SnapshotReader(sim_stem='testTF128',real=1,snap=9)\n",
    "pos = sr.read_block('pos')\n",
    "vel = sr.read_block('vel')\n",
    "ids = sr.read_block('ids')\n",
    "\n",
    "del pos,vel,ids\n",
    "gc.collect()\n",
    "sr.time_this(start_time)"
   ]
  },
  {
   "cell_type": "code",
   "execution_count": null,
   "id": "05aa0253",
   "metadata": {},
   "outputs": [],
   "source": [
    "start_time = time()\n",
    "hr = HaloReader(sim_stem='testTF128')\n",
    "halos = hr.read_this(real=1,snap=9,VA=False)\n",
    "hr.time_this(start_time)"
   ]
  },
  {
   "cell_type": "code",
   "execution_count": null,
   "id": "6f008b0e",
   "metadata": {},
   "outputs": [],
   "source": [
    "plt.yscale('log')\n",
    "plt.hist(np.log10(halos['m200b']),bins=100)\n",
    "plt.show()"
   ]
  },
  {
   "cell_type": "code",
   "execution_count": null,
   "id": "2acf977a",
   "metadata": {},
   "outputs": [],
   "source": []
  },
  {
   "cell_type": "code",
   "execution_count": null,
   "id": "91701f10",
   "metadata": {},
   "outputs": [],
   "source": []
  }
 ],
 "metadata": {
  "kernelspec": {
   "display_name": "Python 3 (ipykernel)",
   "language": "python",
   "name": "python3"
  },
  "language_info": {
   "codemirror_mode": {
    "name": "ipython",
    "version": 3
   },
   "file_extension": ".py",
   "mimetype": "text/x-python",
   "name": "python",
   "nbconvert_exporter": "python",
   "pygments_lexer": "ipython3",
   "version": "3.11.6"
  }
 },
 "nbformat": 4,
 "nbformat_minor": 5
}
