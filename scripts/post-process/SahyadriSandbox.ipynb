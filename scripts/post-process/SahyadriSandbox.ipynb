{
 "cells": [
  {
   "cell_type": "code",
   "execution_count": null,
   "id": "90e1511c",
   "metadata": {},
   "outputs": [],
   "source": [
    "import numpy as np\n",
    "from readers import HaloReader,SnapshotReader\n",
    "from correlations import PowerSpectrum\n",
    "from time import time\n",
    "import gc\n",
    "\n",
    "import matplotlib.pyplot as plt\n",
    "import matplotlib.colors as pltcol"
   ]
  },
  {
   "cell_type": "code",
   "execution_count": null,
   "id": "c95b152d",
   "metadata": {},
   "outputs": [],
   "source": [
    "sim_stem = 'testTF128'\n",
    "snap = 9\n",
    "real = 1\n",
    "grid = 128\n",
    "downsample=0\n",
    "Npmin = 30\n",
    "\n",
    "Seed = 42\n",
    "# start_time = time()\n",
    "sr = SnapshotReader(sim_stem=sim_stem,real=real,snap=snap)\n",
    "pos = sr.read_block('pos',down_to=downsample,seed=Seed)\n",
    "# vel = sr.read_block('vel',down_to=downsample,seed=Seed)\n",
    "# ids = sr.read_block('ids',down_to=downsample,seed=Seed)"
   ]
  },
  {
   "cell_type": "code",
   "execution_count": null,
   "id": "d7eed94b",
   "metadata": {},
   "outputs": [],
   "source": [
    "hr = HaloReader(sim_stem='testTF128',real=real,snap=snap)\n",
    "QE = 0.5 # 0.5 recommended by Bett+07\n",
    "massdef = 'm200b'\n",
    "mmin = hr.mpart*Npmin\n",
    "hpos,halos = hr.prep_halos(massdef=massdef,QE=QE,Npmin=Npmin)"
   ]
  },
  {
   "cell_type": "code",
   "execution_count": null,
   "id": "d1306b61",
   "metadata": {},
   "outputs": [],
   "source": [
    "ps = PowerSpectrum(grid=256,Lbox=sr.Lbox)\n",
    "delta_dm = ps.density_field(pos)\n",
    "FT_delta_dm = ps.fourier_transform_density(delta_dm)\n",
    "Pk_mm = ps.Pk_grid(FT_delta_dm,input_is_FTdensity=True)\n",
    "\n",
    "delta_h = ps.density_field(hpos)\n",
    "FT_delta_h = ps.fourier_transform_density(delta_h)\n",
    "Pk_hh = ps.Pk_grid(FT_delta_h,input_is_FTdensity=True)\n",
    "Pk_hm = ps.Pk_grid(FT_delta_h,input_array2=FT_delta_dm,input_is_FTdensity=True)\n",
    "\n",
    "Pk_hh -= ps.Lbox**3/(halos.size + ps.TINY)\n",
    "if downsample > 0:\n",
    "    Pk_mm -= ps.Lbox**3/(downsample**3)\n",
    "else:\n",
    "    Pk_mm -= ps.Lbox**3/(sr.npart)\n",
    "\n",
    "# del pos#,vel,ids\n",
    "# del delta_dm, FT_delta_dm,delta_h,FT_delta_h\n",
    "# gc.collect()\n",
    "\n",
    "sr.print_this('... done',ps.logfile)"
   ]
  },
  {
   "cell_type": "code",
   "execution_count": null,
   "id": "8fff1427",
   "metadata": {},
   "outputs": [],
   "source": [
    "# outfile_Pk = sr.sim_path + sim_stem + '/r'+str(real)+'/Pk_{0:03d}.txt'.format(snap)\n",
    "# sr.print_this('Writing to file: '+outfile_Pk,sr.logfile)\n",
    "# f = open(outfile_Pk,'w')\n",
    "# f.write(\"# P(k) (DM,halos,cross) from snapshot_{0:03d}\\n\".format(snap))\n",
    "# down = downsample if downsample > 0 else np.rint(sr.npart**(1/3.)).astype(int)\n",
    "# f.write(\"# grid = {0:d}; downsampled to ({1:d})^3 particles\\n\".format(grid,down))\n",
    "# f.write(\"# Halos satisfy {0:.2f} < 2T/|U| < {1:.2f}\\n\".format(1.-QE,1.+QE))\n",
    "# f.write(\"# \"+massdef+\" > {0:.4e} Msun/h\\n\".format(hr.mpart*Npmin))\n",
    "# f.write(\"# k (h/Mpc) | P(k) (Mpc/h)^3 | Phalo | Pcross\\n\")\n",
    "# f.close()\n",
    "# for k in range(ps.ktab.size):\n",
    "#     sr.write_to_file(outfile_Pk,[ps.ktab[k],Pk_mm[k],Pk_hh[k],Pk_hm[k]])\n",
    "# sr.print_this('... done',ps.logfile)\n",
    "\n",
    "# # sr.time_this(start_time)"
   ]
  },
  {
   "cell_type": "code",
   "execution_count": null,
   "id": "225bd2a0",
   "metadata": {},
   "outputs": [],
   "source": [
    "plt.xscale('log');plt.yscale('log')\n",
    "plt.plot(ps.ktab,Pk_mm,'k-',label='matter')\n",
    "plt.plot(ps.ktab,Pk_hh,'r-',label='halos')\n",
    "plt.plot(ps.ktab,Pk_hm,'b-',label='cross')\n",
    "plt.show()\n",
    "\n",
    "plt.xscale('log')\n",
    "plt.plot(ps.ktab,Pk_hm/Pk_mm,'k-',label='$b_1(k)$')\n",
    "plt.show()"
   ]
  },
  {
   "cell_type": "code",
   "execution_count": null,
   "id": "196fe32d",
   "metadata": {},
   "outputs": [],
   "source": [
    "tags = ['mvir','m200b','m200c'] \n",
    "ntags = len(tags)\n",
    "mass_string = ''\n",
    "for t in tags[:-1]: mass_string += t+','\n",
    "mass_string += tags[-1]\n",
    "\n",
    "lgmmin = np.log10(mmin)\n",
    "lgmmax = 16.0\n",
    "dlgm = 0.1\n",
    "dlnm = dlgm*np.log(10)\n",
    "nlgm = int((lgmmax-lgmmin)/dlgm)\n",
    "mbins = np.logspace(lgmmin,lgmmax,nlgm+1)\n",
    "mcenter = np.sqrt(mbins[1:]*mbins[:-1])\n",
    "\n",
    "dndlnm = np.zeros((ntags,nlgm),dtype=float)\n",
    "Vbox = sr.Lbox**3\n",
    "for t in range(ntags):\n",
    "    tag = tags[t]\n",
    "    dndlnm[t],temp = np.histogram(halos[tag],bins=mbins,density=False)\n",
    "    dndlnm[t] = dndlnm[t]/dlnm/Vbox\n",
    "    if tag==massdef:\n",
    "        sr.print_this(\"Nhalos: direct = {0:d}; integrated = {1:.1f}\\n\"\n",
    "                      .format(halos.size,Vbox*dlnm*np.sum(dndlnm[t])),sr.logfile)\n",
    "\n",
    "# outfile_mf = sr.halo_path + sim_stem + '/r'+str(real)+'/mf_{0:d}.txt'.format(snap)\n",
    "# sr.print_this('Writing to file: '+outfile_mf,sr.logfile)\n",
    "# fh = open(outfile_mf,'w')\n",
    "# fh.write(\"#\\n# Mass functions for \" + sim_stem + '/'+'r'+str(real)+'/out_' + str(snap)+\"\\n\")\n",
    "# fh.write(\"# This file contains dn/dlnm (h/Mpc)^3 for various mass definitions.\\n\")\n",
    "# fh.write(\"#\\n# mass (Msun/h) | dndlnm[\"+mass_string+\"]\\n\")\n",
    "# fh.close()\n",
    "# for m in range(nlgm):\n",
    "#     mlist = [mcenter[m]]\n",
    "#     for t in range(ntags):\n",
    "#         mlist.append(dndlnm[t,m])\n",
    "#     sr.write_to_file(outfile_mf,mlist)"
   ]
  },
  {
   "cell_type": "code",
   "execution_count": null,
   "id": "c398e3fc",
   "metadata": {},
   "outputs": [],
   "source": [
    "plt.yscale('log')\n",
    "plt.xscale('log')\n",
    "for t in range(ntags):\n",
    "    plt.plot(mcenter,dndlnm[t],'-',marker='o',label=tags[t])#,drawstyle='steps-mid')\n",
    "plt.legend()\n",
    "plt.show()"
   ]
  },
  {
   "cell_type": "code",
   "execution_count": null,
   "id": "3d68bb83",
   "metadata": {},
   "outputs": [],
   "source": []
  },
  {
   "cell_type": "code",
   "execution_count": null,
   "id": "80255368",
   "metadata": {},
   "outputs": [],
   "source": []
  }
 ],
 "metadata": {
  "kernelspec": {
   "display_name": "Python 3 (ipykernel)",
   "language": "python",
   "name": "python3"
  },
  "language_info": {
   "codemirror_mode": {
    "name": "ipython",
    "version": 3
   },
   "file_extension": ".py",
   "mimetype": "text/x-python",
   "name": "python",
   "nbconvert_exporter": "python",
   "pygments_lexer": "ipython3",
   "version": "3.11.6"
  }
 },
 "nbformat": 4,
 "nbformat_minor": 5
}
