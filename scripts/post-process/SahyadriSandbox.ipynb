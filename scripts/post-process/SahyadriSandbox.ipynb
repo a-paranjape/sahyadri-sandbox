{
 "cells": [
  {
   "cell_type": "code",
   "execution_count": 1,
   "id": "672d49e2",
   "metadata": {},
   "outputs": [],
   "source": [
    "import numpy as np\n",
    "from readers import HaloReader\n",
    "from time import time\n",
    "import gc\n",
    "\n",
    "import matplotlib.pyplot as plt\n",
    "import matplotlib.colors as pltcol"
   ]
  },
  {
   "cell_type": "code",
   "execution_count": 6,
   "id": "a95b7c83",
   "metadata": {},
   "outputs": [
    {
     "name": "stdout",
     "output_type": "stream",
     "text": [
      "... using file: testTF128/r1/out_9.trees\n",
      "0 min 0.03 seconds\n",
      "\n"
     ]
    }
   ],
   "source": [
    "start_time = time()\n",
    "hr = HaloReader(sim_stem='testTF128')\n",
    "halos = hr.read_this(real=1,snap=9,VA=False)\n",
    "hr.time_this(start_time)"
   ]
  },
  {
   "cell_type": "code",
   "execution_count": 7,
   "id": "8ca99030",
   "metadata": {},
   "outputs": [
    {
     "data": {
      "image/png": "[encoded data removed]",
      "text/plain": [
       "<Figure size 640x480 with 1 Axes>"
      ]
     },
     "metadata": {},
     "output_type": "display_data"
    }
   ],
   "source": [
    "plt.yscale('log')\n",
    "plt.hist(np.log10(halos['m200b']),bins=100)\n",
    "plt.show()"
   ]
  },
  {
   "cell_type": "code",
   "execution_count": null,
   "id": "1f7caa3f",
   "metadata": {},
   "outputs": [],
   "source": []
  }
 ],
 "metadata": {
  "kernelspec": {
   "display_name": "Python 3 (ipykernel)",
   "language": "python",
   "name": "python3"
  },
  "language_info": {
   "codemirror_mode": {
    "name": "ipython",
    "version": 3
   },
   "file_extension": ".py",
   "mimetype": "text/x-python",
   "name": "python",
   "nbconvert_exporter": "python",
   "pygments_lexer": "ipython3",
   "version": "3.11.6"
  }
 },
 "nbformat": 4,
 "nbformat_minor": 5
}
